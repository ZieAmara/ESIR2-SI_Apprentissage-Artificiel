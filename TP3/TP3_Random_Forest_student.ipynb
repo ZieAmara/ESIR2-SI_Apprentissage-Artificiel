{
 "cells": [
  {
   "cell_type": "code",
   "execution_count": null,
   "metadata": {
    "ExecuteTime": {
     "end_time": "2021-11-23T13:40:30.389329Z",
     "start_time": "2021-11-23T13:40:27.788833Z"
    }
   },
   "outputs": [],
   "source": [
    "import numpy as np\n",
    "import pandas as pd\n",
    "import matplotlib.pyplot as plt\n",
    "import matplotlib\n",
    "from sklearn.model_selection import train_test_split\n",
    "from sklearn.ensemble import RandomForestClassifier\n",
    "from skimage.feature import hog"
   ]
  },
  {
   "cell_type": "markdown",
   "metadata": {},
   "source": [
    "<font  style=\"font-size: 4rem; color: #1abc9c\"> Random Forests </font>\n",
    "\n",
    "In Scikit-learn, the Random Forests methods are implemented via the <code>RandomForestClassifier</code> and <code>RandomForestCRegressor</code> class. Main parameters are:\n",
    "\n",
    "    n_estimators: the number of trees in the forest.\n",
    "\n",
    "    max_features : the number of attributes randomly drawn.\n",
    "\n",
    "    oob_score : boolean. Estimate or not the generalization error OOB (Out of Bag).\n",
    "\n",
    "https://scikit-learn.org/stable/modules/generated/sklearn.ensemble.RandomForestClassifier.html\n",
    "\n",
    "\n",
    "# <font color=\"#1E90FF\">Handwritten digits</font>\n",
    "Similarly to Decision Trees notebook, we will first apply random forest to the raw images, and then try to improve the performance using HOG representations of images."
   ]
  },
  {
   "cell_type": "code",
   "execution_count": null,
   "metadata": {
    "ExecuteTime": {
     "end_time": "2021-11-23T13:09:47.669168Z",
     "start_time": "2021-11-23T13:09:47.489235Z"
    }
   },
   "outputs": [],
   "source": [
    "mnist = pd.read_csv('./data/cp_sample.csv', sep=';')"
   ]
  },
  {
   "cell_type": "code",
   "execution_count": null,
   "metadata": {
    "ExecuteTime": {
     "end_time": "2021-11-23T13:10:46.105731Z",
     "start_time": "2021-11-23T13:10:46.068184Z"
    }
   },
   "outputs": [],
   "source": [
    "# Dataset split into train/test set\n",
    "data_train, data_test = train_test_split(mnist, test_size = 0.3, random_state = 4)\n"
   ]
  },
  {
   "cell_type": "markdown",
   "metadata": {},
   "source": [
    "## <font color=\"#9400D3\">1. Basic RF</font>\n",
    "\n",
    "<font color=\"blue\">**Todo:**</font> learn a RandomForest with 10 trees, enabling the use of out-of-bag samples to estimate the generalization score."
   ]
  },
  {
   "cell_type": "code",
   "execution_count": null,
   "metadata": {
    "ExecuteTime": {
     "end_time": "2021-11-23T13:10:52.107853Z",
     "start_time": "2021-11-23T13:10:52.000890Z"
    }
   },
   "outputs": [],
   "source": [
    "# TODO - learn a RandomForest with 10 trees\n"
   ]
  },
  {
   "cell_type": "markdown",
   "metadata": {},
   "source": [
    "<font color=\"red\">**Question 1:**</font> How many features are consider when looking for the best split?"
   ]
  },
  {
   "cell_type": "markdown",
   "metadata": {},
   "source": [
    "<font color=\"blue\">**Todo:**</font> Compute the prediction score of this random forest on the training set (function <code>score()</code>) and on the OOB samples (**attribute** <code>oob_score_</code>)"
   ]
  },
  {
   "cell_type": "code",
   "execution_count": null,
   "metadata": {
    "ExecuteTime": {
     "end_time": "2021-11-23T13:19:31.575898Z",
     "start_time": "2021-11-23T13:19:31.517688Z"
    }
   },
   "outputs": [],
   "source": [
    "# TODO\n"
   ]
  },
  {
   "cell_type": "markdown",
   "metadata": {},
   "source": [
    "<font color=\"red\">**Question 2:**</font> \n",
    "- What represents the OOB score?\n",
    "- Compare with the real (generalization) error estimated on the test set."
   ]
  },
  {
   "cell_type": "markdown",
   "metadata": {},
   "source": [
    "## <font color=\"#9400D3\">2. Tuning the number of trees</font>\n",
    "\n",
    "Try now different random forests (by considering different number of trees) and select the most appropriated one.\n",
    "\n",
    "Use the OOB sample estimates which allows the RandomForestClassifier to be fit and validated whilst being trained.\n",
    "\n",
    "Plot the OOB error as a function of the number of trees.\n"
   ]
  },
  {
   "cell_type": "code",
   "execution_count": null,
   "metadata": {
    "ExecuteTime": {
     "end_time": "2021-11-23T13:42:00.973287Z",
     "start_time": "2021-11-23T13:41:54.840303Z"
    }
   },
   "outputs": [],
   "source": [
    "# TODO\n"
   ]
  },
  {
   "cell_type": "code",
   "execution_count": null,
   "metadata": {
    "ExecuteTime": {
     "end_time": "2021-11-23T13:42:03.521560Z",
     "start_time": "2021-11-23T13:42:03.257931Z"
    }
   },
   "outputs": [],
   "source": [
    "# TODO - Plot the OOB error as a function of the number of trees.\n",
    "\n"
   ]
  },
  {
   "cell_type": "markdown",
   "metadata": {},
   "source": [
    "<font color=\"red\">**Question 3:**</font> \n",
    "- What is the best number of trees for this dataset?\n",
    "- What is the estimation of the generalization error of the selected random forest ?"
   ]
  },
  {
   "cell_type": "code",
   "execution_count": null,
   "metadata": {
    "ExecuteTime": {
     "end_time": "2021-11-23T13:37:37.222681Z",
     "start_time": "2021-11-23T13:37:36.848963Z"
    }
   },
   "outputs": [],
   "source": [
    "# TODO - selected model evaluation\n"
   ]
  },
  {
   "cell_type": "markdown",
   "metadata": {},
   "source": [
    "## <font color=\"#9400D3\">3. Using HOG features</font>\n",
    "\n",
    "You will now use HOG representations of images to try to improve the classification performance.\n",
    "\n",
    "We compute the new training and test set with HOG representations with 8 orientations and cells of $14\\times14$ pixels (you can change after)."
   ]
  },
  {
   "cell_type": "code",
   "execution_count": null,
   "metadata": {
    "ExecuteTime": {
     "end_time": "2021-11-23T13:39:19.561680Z",
     "start_time": "2021-11-23T13:39:19.541406Z"
    }
   },
   "outputs": [],
   "source": [
    "def my_hog(row, ori, cell):\n",
    "    return(pd.Series(hog(row.iloc[1:].to_numpy().reshape(28,28,1), orientations=ori, pixels_per_cell=(cell, cell), cells_per_block=(1,1))))"
   ]
  },
  {
   "cell_type": "code",
   "execution_count": null,
   "metadata": {
    "ExecuteTime": {
     "end_time": "2021-11-23T14:03:31.178720Z",
     "start_time": "2021-11-23T14:03:29.414309Z"
    }
   },
   "outputs": [],
   "source": [
    "hog_train = data_train.apply(my_hog, axis=1, args=(16,7))\n",
    "hog_test = data_test.apply(my_hog, axis=1, args=(16,7))\n",
    "hog_train['label'] = data_train.label\n",
    "hog_test['label'] = data_test.label"
   ]
  },
  {
   "cell_type": "markdown",
   "metadata": {},
   "source": [
    "<font color=\"blue\">**Todo:**</font> Try different random forests (by considering different number of trees) on this new dataset and select the most appropriated one.\n",
    "\n",
    "\n",
    "<font color=\"red\">**Question 4:**</font> \n",
    "What is the estimation of the generalization error of random forest for this dataset ? Conclusion ?"
   ]
  },
  {
   "cell_type": "code",
   "execution_count": null,
   "metadata": {
    "ExecuteTime": {
     "end_time": "2021-11-23T14:03:54.572814Z",
     "start_time": "2021-11-23T14:03:49.150224Z"
    }
   },
   "outputs": [],
   "source": [
    "# TODO - select the appropriate RandomForestClassifier on the HOG features\n",
    "\n"
   ]
  },
  {
   "cell_type": "code",
   "execution_count": null,
   "metadata": {
    "ExecuteTime": {
     "end_time": "2021-11-23T14:04:11.340284Z",
     "start_time": "2021-11-23T14:04:10.840174Z"
    }
   },
   "outputs": [],
   "source": [
    "# TODO - selected model evaluation\n"
   ]
  }
 ],
 "metadata": {
  "kernelspec": {
   "display_name": "Python 3 (ipykernel)",
   "language": "python",
   "name": "python3"
  },
  "language_info": {
   "codemirror_mode": {
    "name": "ipython",
    "version": 3
   },
   "file_extension": ".py",
   "mimetype": "text/x-python",
   "name": "python",
   "nbconvert_exporter": "python",
   "pygments_lexer": "ipython3",
   "version": "3.10.6"
  },
  "varInspector": {
   "cols": {
    "lenName": 16,
    "lenType": 16,
    "lenVar": 40
   },
   "kernels_config": {
    "python": {
     "delete_cmd_postfix": "",
     "delete_cmd_prefix": "del ",
     "library": "var_list.py",
     "varRefreshCmd": "print(var_dic_list())"
    },
    "r": {
     "delete_cmd_postfix": ") ",
     "delete_cmd_prefix": "rm(",
     "library": "var_list.r",
     "varRefreshCmd": "cat(var_dic_list()) "
    }
   },
   "types_to_exclude": [
    "module",
    "function",
    "builtin_function_or_method",
    "instance",
    "_Feature"
   ],
   "window_display": false
  }
 },
 "nbformat": 4,
 "nbformat_minor": 4
}
